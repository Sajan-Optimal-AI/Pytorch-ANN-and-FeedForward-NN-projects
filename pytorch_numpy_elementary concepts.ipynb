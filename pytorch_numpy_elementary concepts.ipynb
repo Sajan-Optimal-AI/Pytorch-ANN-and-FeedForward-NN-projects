{
  "nbformat": 4,
  "nbformat_minor": 0,
  "metadata": {
    "colab": {
      "name": "pytorch - numpy concepts.ipynb",
      "provenance": [],
      "collapsed_sections": []
    },
    "kernelspec": {
      "name": "python3",
      "display_name": "Python 3"
    },
    "language_info": {
      "name": "python"
    },
    "accelerator": "GPU"
  },
  "cells": [
    {
      "cell_type": "code",
      "metadata": {
        "id": "SXu7bUb4DJdP"
      },
      "source": [
        "import torch\n",
        "import numpy as np"
      ],
      "execution_count": null,
      "outputs": []
    },
    {
      "cell_type": "code",
      "metadata": {
        "colab": {
          "base_uri": "https://localhost:8080/",
          "height": 35
        },
        "id": "aUi8Jj2bLJt_",
        "outputId": "fc536365-2e37-4e16-9f77-bcee9756a4aa"
      },
      "source": [
        "torch.__version__"
      ],
      "execution_count": null,
      "outputs": [
        {
          "output_type": "execute_result",
          "data": {
            "application/vnd.google.colaboratory.intrinsic+json": {
              "type": "string"
            },
            "text/plain": [
              "'1.8.1+cu101'"
            ]
          },
          "metadata": {
            "tags": []
          },
          "execution_count": 3
        }
      ]
    },
    {
      "cell_type": "markdown",
      "metadata": {
        "id": "lH6LevNhME1T"
      },
      "source": [
        "# **Convert numby array into pytorch tensors**"
      ]
    },
    {
      "cell_type": "code",
      "metadata": {
        "colab": {
          "base_uri": "https://localhost:8080/"
        },
        "id": "nUt7AkVsMaQV",
        "outputId": "cdce164d-a433-4728-af43-c22c472616ec"
      },
      "source": [
        "Array = [1,2,3,4,5]\n",
        "my_list = np.array(Array)\n",
        "my_list"
      ],
      "execution_count": null,
      "outputs": [
        {
          "output_type": "execute_result",
          "data": {
            "text/plain": [
              "array([1, 2, 3, 4, 5])"
            ]
          },
          "metadata": {
            "tags": []
          },
          "execution_count": 6
        }
      ]
    },
    {
      "cell_type": "code",
      "metadata": {
        "colab": {
          "base_uri": "https://localhost:8080/"
        },
        "id": "aBrNuUMlMrpM",
        "outputId": "ae7b3ca9-ec80-49a8-b466-2d080cee338c"
      },
      "source": [
        "my_list.dtype"
      ],
      "execution_count": null,
      "outputs": [
        {
          "output_type": "execute_result",
          "data": {
            "text/plain": [
              "dtype('int64')"
            ]
          },
          "metadata": {
            "tags": []
          },
          "execution_count": 8
        }
      ]
    },
    {
      "cell_type": "code",
      "metadata": {
        "colab": {
          "base_uri": "https://localhost:8080/"
        },
        "id": "ScfkPMmjM3G-",
        "outputId": "4339582b-8438-4d65-94d9-4fd310f63664"
      },
      "source": [
        "tensors = torch.from_numpy(my_list)\n",
        "tensors"
      ],
      "execution_count": null,
      "outputs": [
        {
          "output_type": "execute_result",
          "data": {
            "text/plain": [
              "tensor([1, 2, 3, 4, 5])"
            ]
          },
          "metadata": {
            "tags": []
          },
          "execution_count": 10
        }
      ]
    },
    {
      "cell_type": "code",
      "metadata": {
        "colab": {
          "base_uri": "https://localhost:8080/"
        },
        "id": "V4hAppzIOspn",
        "outputId": "cae8044d-9aed-4897-827e-852adacce97e"
      },
      "source": [
        "tensors.dtype"
      ],
      "execution_count": null,
      "outputs": [
        {
          "output_type": "execute_result",
          "data": {
            "text/plain": [
              "torch.int64"
            ]
          },
          "metadata": {
            "tags": []
          },
          "execution_count": 11
        }
      ]
    },
    {
      "cell_type": "code",
      "metadata": {
        "colab": {
          "base_uri": "https://localhost:8080/"
        },
        "id": "2jKDHw74Owq-",
        "outputId": "1021f6f8-4036-4f50-9e58-0c33520fdb9f"
      },
      "source": [
        "tensors[1]                # indexing is as usual as numpy"
      ],
      "execution_count": null,
      "outputs": [
        {
          "output_type": "execute_result",
          "data": {
            "text/plain": [
              "tensor(2)"
            ]
          },
          "metadata": {
            "tags": []
          },
          "execution_count": 12
        }
      ]
    },
    {
      "cell_type": "code",
      "metadata": {
        "colab": {
          "base_uri": "https://localhost:8080/"
        },
        "id": "GFoT1xTyPN2Q",
        "outputId": "4d7b5e2d-37b9-4a97-a177-61f093ba2498"
      },
      "source": [
        "tensors[2:5]              # slicing is as usual as numpy"
      ],
      "execution_count": null,
      "outputs": [
        {
          "output_type": "execute_result",
          "data": {
            "text/plain": [
              "tensor([3, 4, 5])"
            ]
          },
          "metadata": {
            "tags": []
          },
          "execution_count": 13
        }
      ]
    },
    {
      "cell_type": "code",
      "metadata": {
        "colab": {
          "base_uri": "https://localhost:8080/"
        },
        "id": "Vp9ME9iWPbgo",
        "outputId": "9a290f6c-adf9-44c5-dcd3-928e11b1e1fd"
      },
      "source": [
        "tensors[4] = 10          # replace the existing element\n",
        "tensors"
      ],
      "execution_count": null,
      "outputs": [
        {
          "output_type": "execute_result",
          "data": {
            "text/plain": [
              "tensor([ 1,  2,  3,  4, 10])"
            ]
          },
          "metadata": {
            "tags": []
          },
          "execution_count": 15
        }
      ]
    },
    {
      "cell_type": "code",
      "metadata": {
        "colab": {
          "base_uri": "https://localhost:8080/"
        },
        "id": "LdtqXyRWQD1u",
        "outputId": "241bcd90-6b61-48ca-fc33-dc0c81fae3d1"
      },
      "source": [
        "my_list                 # when alteration is made on tensor , it is also getting registered in numpy array (coz both of them sharing same memory)"
      ],
      "execution_count": null,
      "outputs": [
        {
          "output_type": "execute_result",
          "data": {
            "text/plain": [
              "array([ 1,  2,  3,  4, 10])"
            ]
          },
          "metadata": {
            "tags": []
          },
          "execution_count": 16
        }
      ]
    },
    {
      "cell_type": "code",
      "metadata": {
        "colab": {
          "base_uri": "https://localhost:8080/"
        },
        "id": "de6gE4FGQfMX",
        "outputId": "65be5499-65e0-407d-ca97-b507eddc952e"
      },
      "source": [
        "#To prevent the drawback mentioned at previous cell:\n",
        "tensor_list = torch.tensor(my_list)\n",
        "print(tensor_list)"
      ],
      "execution_count": null,
      "outputs": [
        {
          "output_type": "stream",
          "text": [
            "tensor([ 1,  2,  3,  4, 10])\n"
          ],
          "name": "stdout"
        }
      ]
    },
    {
      "cell_type": "code",
      "metadata": {
        "colab": {
          "base_uri": "https://localhost:8080/"
        },
        "id": "0nGWvlXKTAkG",
        "outputId": "ca8834a0-a6ed-4381-ff1e-c6c3a6cec4d9"
      },
      "source": [
        "tensor_list[4] = 8       \n",
        "print(tensor_list)\n",
        "print(my_list)"
      ],
      "execution_count": null,
      "outputs": [
        {
          "output_type": "stream",
          "text": [
            "tensor([1, 2, 3, 4, 8])\n",
            "[ 1  2  3  4 10]\n"
          ],
          "name": "stdout"
        }
      ]
    },
    {
      "cell_type": "code",
      "metadata": {
        "colab": {
          "base_uri": "https://localhost:8080/"
        },
        "id": "QVqMPZqqTYPe",
        "outputId": "14e10c73-b0dd-4681-adb4-9f743b591571"
      },
      "source": [
        "torch.zeros(2,3)                     # Zeros matrix"
      ],
      "execution_count": null,
      "outputs": [
        {
          "output_type": "execute_result",
          "data": {
            "text/plain": [
              "tensor([[0., 0., 0.],\n",
              "        [0., 0., 0.]])"
            ]
          },
          "metadata": {
            "tags": []
          },
          "execution_count": 21
        }
      ]
    },
    {
      "cell_type": "code",
      "metadata": {
        "colab": {
          "base_uri": "https://localhost:8080/"
        },
        "id": "bQVw-3jzTiWg",
        "outputId": "81351841-c6e1-4bdc-e601-cb24702c17cc"
      },
      "source": [
        "torch.ones(2,3)                      # ones matrix"
      ],
      "execution_count": null,
      "outputs": [
        {
          "output_type": "execute_result",
          "data": {
            "text/plain": [
              "tensor([[1., 1., 1.],\n",
              "        [1., 1., 1.]])"
            ]
          },
          "metadata": {
            "tags": []
          },
          "execution_count": 22
        }
      ]
    },
    {
      "cell_type": "code",
      "metadata": {
        "colab": {
          "base_uri": "https://localhost:8080/"
        },
        "id": "Cvabx3tWSz-P",
        "outputId": "83e46e85-57d9-43e3-a286-20e947de8069"
      },
      "source": [
        "X = torch.tensor(np.arange(0,10).reshape(2,5))          # reshape\n",
        "X"
      ],
      "execution_count": null,
      "outputs": [
        {
          "output_type": "execute_result",
          "data": {
            "text/plain": [
              "tensor([[0, 1, 2, 3, 4],\n",
              "        [5, 6, 7, 8, 9]])"
            ]
          },
          "metadata": {
            "tags": []
          },
          "execution_count": 24
        }
      ]
    },
    {
      "cell_type": "code",
      "metadata": {
        "colab": {
          "base_uri": "https://localhost:8080/"
        },
        "id": "zeyOeecQUB-u",
        "outputId": "ee4613dc-9c82-44f9-8541-9c5489b2f876"
      },
      "source": [
        "X[:,1:3]                                                #slicing the columns"
      ],
      "execution_count": null,
      "outputs": [
        {
          "output_type": "execute_result",
          "data": {
            "text/plain": [
              "tensor([[1, 2],\n",
              "        [6, 7]])"
            ]
          },
          "metadata": {
            "tags": []
          },
          "execution_count": 25
        }
      ]
    },
    {
      "cell_type": "markdown",
      "metadata": {
        "id": "_XMXWg32Uds5"
      },
      "source": [
        "# **Arithmatic Operations**"
      ]
    },
    {
      "cell_type": "code",
      "metadata": {
        "colab": {
          "base_uri": "https://localhost:8080/"
        },
        "id": "2fVYD0uOVdAu",
        "outputId": "26ec2d95-9418-4ca6-afa8-e41b2104343d"
      },
      "source": [
        "X = torch.tensor([1,2,3,4])\n",
        "Y = torch.tensor([5,6,7,8])\n",
        "Z = torch.tensor([9,10,11,12])\n",
        "print(X + Y + Z)"
      ],
      "execution_count": null,
      "outputs": [
        {
          "output_type": "stream",
          "text": [
            "tensor([15, 18, 21, 24])\n"
          ],
          "name": "stdout"
        }
      ]
    },
    {
      "cell_type": "code",
      "metadata": {
        "colab": {
          "base_uri": "https://localhost:8080/"
        },
        "id": "f27IzfyeYvSW",
        "outputId": "9642395f-706c-4bb7-d14f-ac6f9e18acc9"
      },
      "source": [
        "print(X * Y * Z)"
      ],
      "execution_count": null,
      "outputs": [
        {
          "output_type": "stream",
          "text": [
            "tensor([ 45, 120, 231, 384])\n"
          ],
          "name": "stdout"
        }
      ]
    },
    {
      "cell_type": "code",
      "metadata": {
        "colab": {
          "base_uri": "https://localhost:8080/"
        },
        "id": "x6NNv_2EW5nI",
        "outputId": "1833d246-e12e-498f-a12f-368293137018"
      },
      "source": [
        "torch.add(X,Y)"
      ],
      "execution_count": null,
      "outputs": [
        {
          "output_type": "execute_result",
          "data": {
            "text/plain": [
              "tensor([ 6,  8, 10, 12])"
            ]
          },
          "metadata": {
            "tags": []
          },
          "execution_count": 45
        }
      ]
    },
    {
      "cell_type": "code",
      "metadata": {
        "colab": {
          "base_uri": "https://localhost:8080/"
        },
        "id": "bQAo7bawYtho",
        "outputId": "7425d685-9573-4582-b536-f69525f9396a"
      },
      "source": [
        "x = torch.tensor([1,2,3])\n",
        "y = torch.tensor([4,5,6])\n",
        "torch.add(x,y).sum()"
      ],
      "execution_count": null,
      "outputs": [
        {
          "output_type": "execute_result",
          "data": {
            "text/plain": [
              "tensor(21)"
            ]
          },
          "metadata": {
            "tags": []
          },
          "execution_count": 49
        }
      ]
    },
    {
      "cell_type": "markdown",
      "metadata": {
        "id": "6L_vtrL-aOGA"
      },
      "source": [
        "# **Dot and matrix multiplication**"
      ]
    },
    {
      "cell_type": "code",
      "metadata": {
        "id": "ieUmeUhMauFZ",
        "colab": {
          "base_uri": "https://localhost:8080/"
        },
        "outputId": "5b8738fb-e085-468f-98a5-ae0ebbe02dec"
      },
      "source": [
        "x = torch.tensor([1,2,3])\n",
        "y = torch.tensor([4,5,6])\n",
        "x.mul(y)"
      ],
      "execution_count": null,
      "outputs": [
        {
          "output_type": "execute_result",
          "data": {
            "text/plain": [
              "tensor([ 4, 10, 18])"
            ]
          },
          "metadata": {
            "tags": []
          },
          "execution_count": 51
        }
      ]
    },
    {
      "cell_type": "code",
      "metadata": {
        "colab": {
          "base_uri": "https://localhost:8080/"
        },
        "id": "mB1V_ozoe5zJ",
        "outputId": "8d509545-fc33-46f6-d7b1-e2867534265c"
      },
      "source": [
        "x.dot(y)"
      ],
      "execution_count": null,
      "outputs": [
        {
          "output_type": "execute_result",
          "data": {
            "text/plain": [
              "tensor(32)"
            ]
          },
          "metadata": {
            "tags": []
          },
          "execution_count": 53
        }
      ]
    },
    {
      "cell_type": "code",
      "metadata": {
        "colab": {
          "base_uri": "https://localhost:8080/"
        },
        "id": "In2XuMiwfHiV",
        "outputId": "a29fe122-2555-4f46-cce2-aebb01f0f289"
      },
      "source": [
        "i = torch.tensor([[1,2,3],[4,5,6]])\n",
        "j = torch.tensor([[7,8],[9,10],[11,12]])\n",
        "torch.matmul(i,j)"
      ],
      "execution_count": null,
      "outputs": [
        {
          "output_type": "execute_result",
          "data": {
            "text/plain": [
              "tensor([[ 58,  64],\n",
              "        [139, 154]])"
            ]
          },
          "metadata": {
            "tags": []
          },
          "execution_count": 55
        }
      ]
    },
    {
      "cell_type": "code",
      "metadata": {
        "colab": {
          "base_uri": "https://localhost:8080/"
        },
        "id": "NlZ8Ns96f07p",
        "outputId": "4dc31803-1787-420a-e8e0-7050e2558b75"
      },
      "source": [
        "torch.mm(i,j)"
      ],
      "execution_count": null,
      "outputs": [
        {
          "output_type": "execute_result",
          "data": {
            "text/plain": [
              "tensor([[ 58,  64],\n",
              "        [139, 154]])"
            ]
          },
          "metadata": {
            "tags": []
          },
          "execution_count": 56
        }
      ]
    },
    {
      "cell_type": "code",
      "metadata": {
        "colab": {
          "base_uri": "https://localhost:8080/"
        },
        "id": "1PNJBR7Cf5x1",
        "outputId": "aaec821d-a307-4387-ad1a-a199e26f92b8"
      },
      "source": [
        "i@j"
      ],
      "execution_count": null,
      "outputs": [
        {
          "output_type": "execute_result",
          "data": {
            "text/plain": [
              "tensor([[ 58,  64],\n",
              "        [139, 154]])"
            ]
          },
          "metadata": {
            "tags": []
          },
          "execution_count": 58
        }
      ]
    },
    {
      "cell_type": "code",
      "metadata": {
        "colab": {
          "base_uri": "https://localhost:8080/"
        },
        "id": "eUGqQTw0gTPH",
        "outputId": "bbefa623-278c-4224-fa09-91bce0aa10ba"
      },
      "source": [
        "print(torch.cuda.device_count())"
      ],
      "execution_count": null,
      "outputs": [
        {
          "output_type": "stream",
          "text": [
            "1\n"
          ],
          "name": "stdout"
        }
      ]
    },
    {
      "cell_type": "code",
      "metadata": {
        "colab": {
          "base_uri": "https://localhost:8080/"
        },
        "id": "rQ2wM49nhV85",
        "outputId": "d489bbbb-706e-4fd1-b197-6a08d00534fc"
      },
      "source": [
        "print(torch.cuda.get_device_name(0))"
      ],
      "execution_count": null,
      "outputs": [
        {
          "output_type": "stream",
          "text": [
            "Tesla K80\n"
          ],
          "name": "stdout"
        }
      ]
    },
    {
      "cell_type": "markdown",
      "metadata": {
        "id": "-Cb_KfApoDe7"
      },
      "source": [
        "\n",
        "# **Back Propogation - Pytorch**"
      ]
    },
    {
      "cell_type": "code",
      "metadata": {
        "id": "CgFOem91oCX9"
      },
      "source": [
        "import torch"
      ],
      "execution_count": null,
      "outputs": []
    },
    {
      "cell_type": "markdown",
      "metadata": {
        "id": "rPHMwvYeoqV7"
      },
      "source": [
        "# Case 1 :\n",
        "**y = x^2 >>>>> Derivative during back propagation >>>> dy/dx = 2x**"
      ]
    },
    {
      "cell_type": "code",
      "metadata": {
        "colab": {
          "base_uri": "https://localhost:8080/"
        },
        "id": "hJ6FKJ7Do_7q",
        "outputId": "5e5f3341-e0a2-4e4b-9620-67031db438b8"
      },
      "source": [
        "x = torch.tensor(4.0,requires_grad=True )           # must be float\n",
        "x"
      ],
      "execution_count": null,
      "outputs": [
        {
          "output_type": "execute_result",
          "data": {
            "text/plain": [
              "tensor(4., requires_grad=True)"
            ]
          },
          "metadata": {
            "tags": []
          },
          "execution_count": 8
        }
      ]
    },
    {
      "cell_type": "code",
      "metadata": {
        "colab": {
          "base_uri": "https://localhost:8080/"
        },
        "id": "hBPZMg8uqHq5",
        "outputId": "9e573f55-9315-4df2-853f-4907cd282a8d"
      },
      "source": [
        "y = x**2\n",
        "y"
      ],
      "execution_count": null,
      "outputs": [
        {
          "output_type": "execute_result",
          "data": {
            "text/plain": [
              "tensor(16., grad_fn=<PowBackward0>)"
            ]
          },
          "metadata": {
            "tags": []
          },
          "execution_count": 11
        }
      ]
    },
    {
      "cell_type": "code",
      "metadata": {
        "colab": {
          "base_uri": "https://localhost:8080/"
        },
        "id": "LcI0lQ5JqOYt",
        "outputId": "f3eb6c99-de76-4306-9c0a-39ce5f3b6db7"
      },
      "source": [
        "y.backward()                      # Without using derivative equatioin,by the attribute - backward(), spontaneous computation is taking place\n",
        "print(x.grad)"
      ],
      "execution_count": null,
      "outputs": [
        {
          "output_type": "stream",
          "text": [
            "tensor(8.)\n"
          ],
          "name": "stdout"
        }
      ]
    },
    {
      "cell_type": "markdown",
      "metadata": {
        "id": "sdgiwBDXqr7K"
      },
      "source": [
        "# Case 2:\n",
        "**y = x^3 + x^2 >>>>>> Derivative during backpropagation >>>>>dy/dx=3x^2 + 2x^1**"
      ]
    },
    {
      "cell_type": "code",
      "metadata": {
        "colab": {
          "base_uri": "https://localhost:8080/"
        },
        "id": "FygN_xAErP4W",
        "outputId": "78f2e3fe-6ea3-45a8-d5e6-34120633d226"
      },
      "source": [
        "list = [[1.,2.,3.],[4.,5.,6.],[7.,8.,9.]]                   # must be float\n",
        "torch_input = torch.tensor(list,requires_grad=True)\n",
        "torch_input"
      ],
      "execution_count": null,
      "outputs": [
        {
          "output_type": "execute_result",
          "data": {
            "text/plain": [
              "tensor([[1., 2., 3.],\n",
              "        [4., 5., 6.],\n",
              "        [7., 8., 9.]], requires_grad=True)"
            ]
          },
          "metadata": {
            "tags": []
          },
          "execution_count": 29
        }
      ]
    },
    {
      "cell_type": "code",
      "metadata": {
        "colab": {
          "base_uri": "https://localhost:8080/"
        },
        "id": "klOadl8zshzW",
        "outputId": "02ce60af-33cc-43de-e226-095bcbbacdf1"
      },
      "source": [
        "y=torch_input**3+torch_input**2\n",
        "y"
      ],
      "execution_count": null,
      "outputs": [
        {
          "output_type": "execute_result",
          "data": {
            "text/plain": [
              "tensor([[  2.,  12.,  36.],\n",
              "        [ 80., 150., 252.],\n",
              "        [392., 576., 810.]], grad_fn=<AddBackward0>)"
            ]
          },
          "metadata": {
            "tags": []
          },
          "execution_count": 30
        }
      ]
    },
    {
      "cell_type": "code",
      "metadata": {
        "colab": {
          "base_uri": "https://localhost:8080/"
        },
        "id": "xXfzQSSfstiT",
        "outputId": "bf813416-358b-4112-b70d-661ef59e896e"
      },
      "source": [
        "z=y.sum()\n",
        "z"
      ],
      "execution_count": null,
      "outputs": [
        {
          "output_type": "execute_result",
          "data": {
            "text/plain": [
              "tensor(2310., grad_fn=<SumBackward0>)"
            ]
          },
          "metadata": {
            "tags": []
          },
          "execution_count": 31
        }
      ]
    },
    {
      "cell_type": "code",
      "metadata": {
        "id": "KZx_IKaTtAYL"
      },
      "source": [
        "z.backward()"
      ],
      "execution_count": null,
      "outputs": []
    },
    {
      "cell_type": "code",
      "metadata": {
        "colab": {
          "base_uri": "https://localhost:8080/"
        },
        "id": "5uHvhtHstbUr",
        "outputId": "11e586a0-348a-4a06-85e0-64e2ff52c191"
      },
      "source": [
        "print(torch_input.grad)"
      ],
      "execution_count": null,
      "outputs": [
        {
          "output_type": "stream",
          "text": [
            "tensor([[  5.,  16.,  33.],\n",
            "        [ 56.,  85., 120.],\n",
            "        [161., 208., 261.]])\n"
          ],
          "name": "stdout"
        }
      ]
    }
  ]
}